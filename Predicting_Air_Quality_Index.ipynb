{
 "cells": [
  {
   "cell_type": "code",
   "execution_count": null,
   "metadata": {},
   "outputs": [],
   "source": [
    "# importing pandas module for data frame\n",
    "import pandas as pd\n",
    "\n",
    "# loading dataset and storing in train variable\n",
    "train= pd.read_csv(\"/content/AQI and Lat Long of Countries.csv\")\n",
    "# display top 5 data\n",
    "train.head()\n"
   ]
  },
  {
   "cell_type": "code",
   "execution_count": null,
   "metadata": {},
   "outputs": [],
   "source": []
  }
 ],
 "metadata": {
  "language_info": {
   "name": "python"
  }
 },
 "nbformat": 4,
 "nbformat_minor": 2
}
