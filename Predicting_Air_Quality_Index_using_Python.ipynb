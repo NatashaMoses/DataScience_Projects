{
  "cells": [
    {
      "cell_type": "code",
      "execution_count": null,
      "metadata": {
        "colab": {
          "base_uri": "https://localhost:8080/",
          "height": 206
        },
        "id": "zX5jQ2_yHR9o",
        "outputId": "968fa84d-d368-4b89-bf6f-52bc675e0415"
      },
      "outputs": [],
      "source": [
        "# importing pandas module for data frame\n",
        "import pandas as pd\n",
        "\n",
        "# loading dataset and storing in train variable\n",
        "train= pd.read_csv(\"C:/Users/Anarchy/Documents/Data_Science/Air quality/AQI-and-Lat-Long-of-Countries.csv\")\n",
        "# display top 5 data\n",
        "train.head()"
      ]
    },
    {
      "cell_type": "code",
      "execution_count": null,
      "metadata": {
        "colab": {
          "base_uri": "https://localhost:8080/",
          "height": 752
        },
        "id": "cArWvdZ3HzPQ",
        "outputId": "fee9c35a-ecd2-4ab1-c9e5-1288748aecc3"
      },
      "outputs": [],
      "source": [
        "from sklearn.ensemble import RandomForestRegressor, AdaBoostRegressor\n",
        "\n",
        "#CREATING MODEL\n",
        "m1= RandomForestRegressor()\n",
        "\n",
        "\n",
        "train1= train.drop(['AQI Value'], axis=1)\n",
        "\n",
        "target= train['AQI Value']\n",
        "\n",
        "print(train1)\n",
        "print(target)\n",
        "#FITTING THE MODEL\n",
        "m1.fit(train1, target)\n"
      ]
    },
    {
      "cell_type": "code",
      "execution_count": null,
      "metadata": {
        "colab": {
          "base_uri": "https://localhost:8080/"
        },
        "id": "65FeBF0vIVA8",
        "outputId": "1e22600d-f54a-4aeb-9ed4-bba105e4fe2c"
      },
      "outputs": [],
      "source": [
        "m1.score(train1, target)*100\n",
        "\n",
        "# predicting the model with other values (testing the data)\n",
        "prediction_result= m1.predict([[1, 10, 5, 11, 10, 5]])\n",
        "\n",
        "print(prediction_result)"
      ]
    },
    {
      "cell_type": "code",
      "execution_count": null,
      "metadata": {
        "colab": {
          "base_uri": "https://localhost:8080/"
        },
        "id": "i0lUlxV-Hq8q",
        "outputId": "23335aca-76ca-4878-f85e-b2c0c0a85aa7"
      },
      "outputs": [],
      "source": [
        "# Adaboost model\n",
        "# importing module\n",
        "\n",
        "from sklearn.ensemble import AdaBoostRegressor\n",
        "\n",
        "\n",
        "# defining model\n",
        "m2 = AdaBoostRegressor()\n",
        "\n",
        "# Fitting the model\n",
        "m2.fit(train1, target)\n",
        "\n",
        "'''AdaBoostRegressor(base_estimator=None, learning_rate=1.0, loss='linear',\n",
        "                  n_estimators=50, random_state=None)'''\n",
        "\n",
        "m2.score(train1, target)*100\n",
        "\n",
        "# predicting the model with other values (testing the data)\n",
        "# so AQI is 48.73051389\n",
        "m2.predict([[1, 45, 67, 34, 5, 23]])"
      ]
    }
  ],
  "metadata": {
    "colab": {
      "provenance": []
    },
    "kernelspec": {
      "display_name": "Python 3",
      "name": "python3"
    },
    "language_info": {
      "codemirror_mode": {
        "name": "ipython",
        "version": 3
      },
      "file_extension": ".py",
      "mimetype": "text/x-python",
      "name": "python",
      "nbconvert_exporter": "python",
      "pygments_lexer": "ipython3",
      "version": "3.12.3"
    }
  },
  "nbformat": 4,
  "nbformat_minor": 0
}
